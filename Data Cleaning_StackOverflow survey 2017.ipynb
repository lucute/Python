{
 "cells": [
  {
   "cell_type": "markdown",
   "metadata": {},
   "source": [
    "# Data Cleansing"
   ]
  },
  {
   "cell_type": "code",
   "execution_count": 4,
   "metadata": {},
   "outputs": [],
   "source": [
    "import pandas as pd\n",
    "import numpy as np"
   ]
  },
  {
   "cell_type": "code",
   "execution_count": 5,
   "metadata": {},
   "outputs": [],
   "source": [
    "df = pd.read_csv('survey_results_public.csv', index_col = 0)"
   ]
  },
  {
   "cell_type": "code",
   "execution_count": 6,
   "metadata": {},
   "outputs": [
    {
     "data": {
      "text/html": [
       "<div>\n",
       "<style scoped>\n",
       "    .dataframe tbody tr th:only-of-type {\n",
       "        vertical-align: middle;\n",
       "    }\n",
       "\n",
       "    .dataframe tbody tr th {\n",
       "        vertical-align: top;\n",
       "    }\n",
       "\n",
       "    .dataframe thead th {\n",
       "        text-align: right;\n",
       "    }\n",
       "</style>\n",
       "<table border=\"1\" class=\"dataframe\">\n",
       "  <thead>\n",
       "    <tr style=\"text-align: right;\">\n",
       "      <th></th>\n",
       "      <th>Professional</th>\n",
       "      <th>ProgramHobby</th>\n",
       "      <th>Country</th>\n",
       "      <th>University</th>\n",
       "      <th>EmploymentStatus</th>\n",
       "      <th>FormalEducation</th>\n",
       "      <th>MajorUndergrad</th>\n",
       "      <th>HomeRemote</th>\n",
       "      <th>CompanySize</th>\n",
       "      <th>CompanyType</th>\n",
       "      <th>...</th>\n",
       "      <th>StackOverflowMakeMoney</th>\n",
       "      <th>Gender</th>\n",
       "      <th>HighestEducationParents</th>\n",
       "      <th>Race</th>\n",
       "      <th>SurveyLong</th>\n",
       "      <th>QuestionsInteresting</th>\n",
       "      <th>QuestionsConfusing</th>\n",
       "      <th>InterestedAnswers</th>\n",
       "      <th>Salary</th>\n",
       "      <th>ExpectedSalary</th>\n",
       "    </tr>\n",
       "    <tr>\n",
       "      <th>Respondent</th>\n",
       "      <th></th>\n",
       "      <th></th>\n",
       "      <th></th>\n",
       "      <th></th>\n",
       "      <th></th>\n",
       "      <th></th>\n",
       "      <th></th>\n",
       "      <th></th>\n",
       "      <th></th>\n",
       "      <th></th>\n",
       "      <th></th>\n",
       "      <th></th>\n",
       "      <th></th>\n",
       "      <th></th>\n",
       "      <th></th>\n",
       "      <th></th>\n",
       "      <th></th>\n",
       "      <th></th>\n",
       "      <th></th>\n",
       "      <th></th>\n",
       "      <th></th>\n",
       "    </tr>\n",
       "  </thead>\n",
       "  <tbody>\n",
       "    <tr>\n",
       "      <th>1</th>\n",
       "      <td>Student</td>\n",
       "      <td>Yes, both</td>\n",
       "      <td>United States</td>\n",
       "      <td>No</td>\n",
       "      <td>Not employed, and not looking for work</td>\n",
       "      <td>Secondary school</td>\n",
       "      <td>NaN</td>\n",
       "      <td>NaN</td>\n",
       "      <td>NaN</td>\n",
       "      <td>NaN</td>\n",
       "      <td>...</td>\n",
       "      <td>Strongly disagree</td>\n",
       "      <td>Male</td>\n",
       "      <td>High school</td>\n",
       "      <td>White or of European descent</td>\n",
       "      <td>Strongly disagree</td>\n",
       "      <td>Strongly agree</td>\n",
       "      <td>Disagree</td>\n",
       "      <td>Strongly agree</td>\n",
       "      <td>NaN</td>\n",
       "      <td>NaN</td>\n",
       "    </tr>\n",
       "    <tr>\n",
       "      <th>2</th>\n",
       "      <td>Student</td>\n",
       "      <td>Yes, both</td>\n",
       "      <td>United Kingdom</td>\n",
       "      <td>Yes, full-time</td>\n",
       "      <td>Employed part-time</td>\n",
       "      <td>Some college/university study without earning ...</td>\n",
       "      <td>Computer science or software engineering</td>\n",
       "      <td>More than half, but not all, the time</td>\n",
       "      <td>20 to 99 employees</td>\n",
       "      <td>Privately-held limited company, not in startup...</td>\n",
       "      <td>...</td>\n",
       "      <td>Strongly disagree</td>\n",
       "      <td>Male</td>\n",
       "      <td>A master's degree</td>\n",
       "      <td>White or of European descent</td>\n",
       "      <td>Somewhat agree</td>\n",
       "      <td>Somewhat agree</td>\n",
       "      <td>Disagree</td>\n",
       "      <td>Strongly agree</td>\n",
       "      <td>NaN</td>\n",
       "      <td>37500.0</td>\n",
       "    </tr>\n",
       "    <tr>\n",
       "      <th>3</th>\n",
       "      <td>Professional developer</td>\n",
       "      <td>Yes, both</td>\n",
       "      <td>United Kingdom</td>\n",
       "      <td>No</td>\n",
       "      <td>Employed full-time</td>\n",
       "      <td>Bachelor's degree</td>\n",
       "      <td>Computer science or software engineering</td>\n",
       "      <td>Less than half the time, but at least one day ...</td>\n",
       "      <td>10,000 or more employees</td>\n",
       "      <td>Publicly-traded corporation</td>\n",
       "      <td>...</td>\n",
       "      <td>Disagree</td>\n",
       "      <td>Male</td>\n",
       "      <td>A professional degree</td>\n",
       "      <td>White or of European descent</td>\n",
       "      <td>Somewhat agree</td>\n",
       "      <td>Agree</td>\n",
       "      <td>Disagree</td>\n",
       "      <td>Agree</td>\n",
       "      <td>113750.0</td>\n",
       "      <td>NaN</td>\n",
       "    </tr>\n",
       "    <tr>\n",
       "      <th>4</th>\n",
       "      <td>Professional non-developer who sometimes write...</td>\n",
       "      <td>Yes, both</td>\n",
       "      <td>United States</td>\n",
       "      <td>No</td>\n",
       "      <td>Employed full-time</td>\n",
       "      <td>Doctoral degree</td>\n",
       "      <td>A non-computer-focused engineering discipline</td>\n",
       "      <td>Less than half the time, but at least one day ...</td>\n",
       "      <td>10,000 or more employees</td>\n",
       "      <td>Non-profit/non-governmental organization or pr...</td>\n",
       "      <td>...</td>\n",
       "      <td>Disagree</td>\n",
       "      <td>Male</td>\n",
       "      <td>A doctoral degree</td>\n",
       "      <td>White or of European descent</td>\n",
       "      <td>Agree</td>\n",
       "      <td>Agree</td>\n",
       "      <td>Somewhat agree</td>\n",
       "      <td>Strongly agree</td>\n",
       "      <td>NaN</td>\n",
       "      <td>NaN</td>\n",
       "    </tr>\n",
       "    <tr>\n",
       "      <th>5</th>\n",
       "      <td>Professional developer</td>\n",
       "      <td>Yes, I program as a hobby</td>\n",
       "      <td>Switzerland</td>\n",
       "      <td>No</td>\n",
       "      <td>Employed full-time</td>\n",
       "      <td>Master's degree</td>\n",
       "      <td>Computer science or software engineering</td>\n",
       "      <td>Never</td>\n",
       "      <td>10 to 19 employees</td>\n",
       "      <td>Privately-held limited company, not in startup...</td>\n",
       "      <td>...</td>\n",
       "      <td>NaN</td>\n",
       "      <td>NaN</td>\n",
       "      <td>NaN</td>\n",
       "      <td>NaN</td>\n",
       "      <td>NaN</td>\n",
       "      <td>NaN</td>\n",
       "      <td>NaN</td>\n",
       "      <td>NaN</td>\n",
       "      <td>NaN</td>\n",
       "      <td>NaN</td>\n",
       "    </tr>\n",
       "  </tbody>\n",
       "</table>\n",
       "<p>5 rows × 153 columns</p>\n",
       "</div>"
      ],
      "text/plain": [
       "                                                 Professional  \\\n",
       "Respondent                                                      \n",
       "1                                                     Student   \n",
       "2                                                     Student   \n",
       "3                                      Professional developer   \n",
       "4           Professional non-developer who sometimes write...   \n",
       "5                                      Professional developer   \n",
       "\n",
       "                         ProgramHobby         Country      University  \\\n",
       "Respondent                                                              \n",
       "1                           Yes, both   United States              No   \n",
       "2                           Yes, both  United Kingdom  Yes, full-time   \n",
       "3                           Yes, both  United Kingdom              No   \n",
       "4                           Yes, both   United States              No   \n",
       "5           Yes, I program as a hobby     Switzerland              No   \n",
       "\n",
       "                                  EmploymentStatus  \\\n",
       "Respondent                                           \n",
       "1           Not employed, and not looking for work   \n",
       "2                               Employed part-time   \n",
       "3                               Employed full-time   \n",
       "4                               Employed full-time   \n",
       "5                               Employed full-time   \n",
       "\n",
       "                                              FormalEducation  \\\n",
       "Respondent                                                      \n",
       "1                                            Secondary school   \n",
       "2           Some college/university study without earning ...   \n",
       "3                                           Bachelor's degree   \n",
       "4                                             Doctoral degree   \n",
       "5                                             Master's degree   \n",
       "\n",
       "                                           MajorUndergrad  \\\n",
       "Respondent                                                  \n",
       "1                                                     NaN   \n",
       "2                Computer science or software engineering   \n",
       "3                Computer science or software engineering   \n",
       "4           A non-computer-focused engineering discipline   \n",
       "5                Computer science or software engineering   \n",
       "\n",
       "                                                   HomeRemote  \\\n",
       "Respondent                                                      \n",
       "1                                                         NaN   \n",
       "2                       More than half, but not all, the time   \n",
       "3           Less than half the time, but at least one day ...   \n",
       "4           Less than half the time, but at least one day ...   \n",
       "5                                                       Never   \n",
       "\n",
       "                         CompanySize  \\\n",
       "Respondent                             \n",
       "1                                NaN   \n",
       "2                 20 to 99 employees   \n",
       "3           10,000 or more employees   \n",
       "4           10,000 or more employees   \n",
       "5                 10 to 19 employees   \n",
       "\n",
       "                                                  CompanyType      ...        \\\n",
       "Respondent                                                         ...         \n",
       "1                                                         NaN      ...         \n",
       "2           Privately-held limited company, not in startup...      ...         \n",
       "3                                 Publicly-traded corporation      ...         \n",
       "4           Non-profit/non-governmental organization or pr...      ...         \n",
       "5           Privately-held limited company, not in startup...      ...         \n",
       "\n",
       "           StackOverflowMakeMoney Gender HighestEducationParents  \\\n",
       "Respondent                                                         \n",
       "1               Strongly disagree   Male             High school   \n",
       "2               Strongly disagree   Male       A master's degree   \n",
       "3                        Disagree   Male   A professional degree   \n",
       "4                        Disagree   Male       A doctoral degree   \n",
       "5                             NaN    NaN                     NaN   \n",
       "\n",
       "                                    Race         SurveyLong  \\\n",
       "Respondent                                                    \n",
       "1           White or of European descent  Strongly disagree   \n",
       "2           White or of European descent     Somewhat agree   \n",
       "3           White or of European descent     Somewhat agree   \n",
       "4           White or of European descent              Agree   \n",
       "5                                    NaN                NaN   \n",
       "\n",
       "           QuestionsInteresting QuestionsConfusing  InterestedAnswers  \\\n",
       "Respondent                                                              \n",
       "1                Strongly agree           Disagree     Strongly agree   \n",
       "2                Somewhat agree           Disagree     Strongly agree   \n",
       "3                         Agree           Disagree              Agree   \n",
       "4                         Agree     Somewhat agree     Strongly agree   \n",
       "5                           NaN                NaN                NaN   \n",
       "\n",
       "              Salary ExpectedSalary  \n",
       "Respondent                           \n",
       "1                NaN            NaN  \n",
       "2                NaN        37500.0  \n",
       "3           113750.0            NaN  \n",
       "4                NaN            NaN  \n",
       "5                NaN            NaN  \n",
       "\n",
       "[5 rows x 153 columns]"
      ]
     },
     "execution_count": 6,
     "metadata": {},
     "output_type": "execute_result"
    }
   ],
   "source": [
    "df.head()"
   ]
  },
  {
   "cell_type": "markdown",
   "metadata": {},
   "source": [
    "The objectives of this data cleansing are: <br>\n",
    "- Convert all five-points measures into numeric data (1-5)\n",
    "- Convert all yes or no data into 1 and 0\n",
    "- For the multiple choices columns, I separate those choices into list for further use\n",
    "- For the columns has string instead of float, for example, yearsprogram, I set them into the mean of the years"
   ]
  },
  {
   "cell_type": "markdown",
   "metadata": {},
   "source": [
    "### Convert 5 points values"
   ]
  },
  {
   "cell_type": "code",
   "execution_count": 59,
   "metadata": {},
   "outputs": [],
   "source": [
    "df.replace({'Strongly agree': 5, 'Agree': 4, \n",
    "            'Somewhat agree': 3, 'Disagree': 2, 'Strongly disagree': 1}, inplace = True)"
   ]
  },
  {
   "cell_type": "code",
   "execution_count": 60,
   "metadata": {},
   "outputs": [],
   "source": [
    "df.replace({'Very important': 5, \n",
    "            'Important': 4, 'Somewhat important': 3, \n",
    "            'Not very important': 2, 'Not at all important': 1}, inplace = True)"
   ]
  },
  {
   "cell_type": "code",
   "execution_count": 61,
   "metadata": {},
   "outputs": [],
   "source": [
    "df.replace({'Greatly overpaid': 5, 'Somewhat overpaid': 4, 'Neither underpaid nor overpaid': 3, \n",
    "            'Somewhat underpaid': 2, 'Greatly underpaid':1},inplace=True)"
   ]
  },
  {
   "cell_type": "code",
   "execution_count": 62,
   "metadata": {},
   "outputs": [],
   "source": [
    "df.replace({'Very satisfied':5,'Somewhat satisfied':3,\n",
    "             'satisfied':4,'Not very satisfied':2,\n",
    "             'Not at all satisfied':1}, inplace = True)"
   ]
  },
  {
   "cell_type": "markdown",
   "metadata": {},
   "source": [
    "### YearsProgram"
   ]
  },
  {
   "cell_type": "code",
   "execution_count": 7,
   "metadata": {},
   "outputs": [
    {
     "data": {
      "text/plain": [
       "array(['2 to 3 years', '9 to 10 years', '20 or more years',\n",
       "       '14 to 15 years', '6 to 7 years', '10 to 11 years',\n",
       "       '13 to 14 years', '12 to 13 years', '15 to 16 years',\n",
       "       '11 to 12 years', '8 to 9 years', '5 to 6 years', '18 to 19 years',\n",
       "       '7 to 8 years', '1 to 2 years', '3 to 4 years', 'Less than a year',\n",
       "       '4 to 5 years', '17 to 18 years', '16 to 17 years',\n",
       "       '19 to 20 years', nan], dtype=object)"
      ]
     },
     "execution_count": 7,
     "metadata": {},
     "output_type": "execute_result"
    }
   ],
   "source": [
    "df.YearsProgram.unique()"
   ]
  },
  {
   "cell_type": "code",
   "execution_count": 8,
   "metadata": {},
   "outputs": [],
   "source": [
    "df['YearsProgram'].replace({\n",
    "    '2 to 3 years': 2.5, '9 to 10 years': 9.5,\n",
    "    '20 or more years': 20, '14 to 15 years': 14.5,\n",
    "    '6 to 7 years': 6.5, '10 to 11 years':10.5, '13 to 14 years':13.5, \n",
    "    '12 to 13 years': 12.5, '15 to 16 years':15.5, '11 to 12 years': 11.5,\n",
    "    '8 to 9 years': 8.5, '5 to 6 years' : 5.5, '18 to 19 years' : 18.5,\n",
    "    '7 to 8 years' : 7.5, '1 to 2 years' : 1.5, '3 to 4 years' : 3.5, 'Less than a year' : 0.5,\n",
    "    '4 to 5 years' : 4.5, '17 to 18 years' : 17.5, '16 to 17 years' : 16.5,\n",
    "    '19 to 20 years' : 19.5 }, inplace = True)"
   ]
  },
  {
   "cell_type": "markdown",
   "metadata": {},
   "source": [
    "<div class=\"alert alert-block alert-info\">\n",
    "20 or more years : 20  <br>\n",
    "less than a year : 0.5 "
   ]
  },
  {
   "cell_type": "code",
   "execution_count": 9,
   "metadata": {},
   "outputs": [
    {
     "data": {
      "text/plain": [
       "Respondent\n",
       "1     2.5\n",
       "2     9.5\n",
       "3    20.0\n",
       "4    14.5\n",
       "5    20.0\n",
       "Name: YearsProgram, dtype: float64"
      ]
     },
     "execution_count": 9,
     "metadata": {},
     "output_type": "execute_result"
    }
   ],
   "source": [
    "df.YearsProgram.head(5)"
   ]
  },
  {
   "cell_type": "markdown",
   "metadata": {},
   "source": [
    "### YearsCodedJob"
   ]
  },
  {
   "cell_type": "code",
   "execution_count": 11,
   "metadata": {},
   "outputs": [
    {
     "data": {
      "text/plain": [
       "array([nan, '20 or more years', '9 to 10 years', '10 to 11 years',\n",
       "       '8 to 9 years', '7 to 8 years', '11 to 12 years', '15 to 16 years',\n",
       "       '1 to 2 years', '3 to 4 years', '12 to 13 years',\n",
       "       'Less than a year', '5 to 6 years', '16 to 17 years',\n",
       "       '13 to 14 years', '6 to 7 years', '2 to 3 years', '17 to 18 years',\n",
       "       '4 to 5 years', '14 to 15 years', '18 to 19 years',\n",
       "       '19 to 20 years'], dtype=object)"
      ]
     },
     "execution_count": 11,
     "metadata": {},
     "output_type": "execute_result"
    }
   ],
   "source": [
    "df.YearsCodedJob.unique()"
   ]
  },
  {
   "cell_type": "code",
   "execution_count": 12,
   "metadata": {},
   "outputs": [],
   "source": [
    "df['YearsCodedJob'].replace({\n",
    "    '2 to 3 years': 2.5, '9 to 10 years': 9.5,\n",
    "    '20 or more years': 20, '14 to 15 years': 14.5,\n",
    "    '6 to 7 years': 6.5, '10 to 11 years':10.5, '13 to 14 years':13.5, \n",
    "    '12 to 13 years': 12.5, '15 to 16 years':15.5, '11 to 12 years': 11.5,\n",
    "    '8 to 9 years': 8.5, '5 to 6 years' : 5.5, '18 to 19 years' : 18.5,\n",
    "    '7 to 8 years' : 7.5, '1 to 2 years' : 1.5, '3 to 4 years' : 3.5, 'Less than a year' : 0.5,\n",
    "    '4 to 5 years' : 4.5, '17 to 18 years' : 17.5, '16 to 17 years' : 16.5,\n",
    "    '19 to 20 years' : 19.5 }, inplace = True)"
   ]
  },
  {
   "cell_type": "code",
   "execution_count": 13,
   "metadata": {},
   "outputs": [
    {
     "data": {
      "text/plain": [
       "Respondent\n",
       "1     NaN\n",
       "2     NaN\n",
       "3    20.0\n",
       "4     9.5\n",
       "5    10.5\n",
       "Name: YearsCodedJob, dtype: float64"
      ]
     },
     "execution_count": 13,
     "metadata": {},
     "output_type": "execute_result"
    }
   ],
   "source": [
    "df.YearsCodedJob.head()"
   ]
  },
  {
   "cell_type": "markdown",
   "metadata": {},
   "source": [
    "### YearsCodedJobPast"
   ]
  },
  {
   "cell_type": "code",
   "execution_count": 15,
   "metadata": {},
   "outputs": [
    {
     "data": {
      "text/plain": [
       "array([nan, '17 to 18 years', '5 to 6 years', '19 to 20 years',\n",
       "       '7 to 8 years', '4 to 5 years', '14 to 15 years',\n",
       "       '20 or more years', '2 to 3 years', 'Less than a year',\n",
       "       '10 to 11 years', '6 to 7 years', '9 to 10 years',\n",
       "       '11 to 12 years', '3 to 4 years', '13 to 14 years',\n",
       "       '15 to 16 years', '1 to 2 years', '8 to 9 years', '16 to 17 years',\n",
       "       '12 to 13 years', '18 to 19 years'], dtype=object)"
      ]
     },
     "execution_count": 15,
     "metadata": {},
     "output_type": "execute_result"
    }
   ],
   "source": [
    "df.YearsCodedJobPast.unique()"
   ]
  },
  {
   "cell_type": "code",
   "execution_count": 16,
   "metadata": {},
   "outputs": [],
   "source": [
    "df['YearsCodedJobPast'].replace({\n",
    "    '2 to 3 years': 2.5, '9 to 10 years': 9.5,\n",
    "    '20 or more years': 20, '14 to 15 years': 14.5,\n",
    "    '6 to 7 years': 6.5, '10 to 11 years':10.5, '13 to 14 years':13.5, \n",
    "    '12 to 13 years': 12.5, '15 to 16 years':15.5, '11 to 12 years': 11.5,\n",
    "    '8 to 9 years': 8.5, '5 to 6 years' : 5.5, '18 to 19 years' : 18.5,\n",
    "    '7 to 8 years' : 7.5, '1 to 2 years' : 1.5, '3 to 4 years' : 3.5, 'Less than a year' : 0.5,\n",
    "    '4 to 5 years' : 4.5, '17 to 18 years' : 17.5, '16 to 17 years' : 16.5,\n",
    "    '19 to 20 years' : 19.5 }, inplace = True)"
   ]
  },
  {
   "cell_type": "code",
   "execution_count": 17,
   "metadata": {
    "scrolled": false
   },
   "outputs": [
    {
     "data": {
      "text/plain": [
       "Respondent\n",
       "1    NaN\n",
       "2    NaN\n",
       "3    NaN\n",
       "4    NaN\n",
       "5    NaN\n",
       "6    NaN\n",
       "7    NaN\n",
       "8    NaN\n",
       "9    NaN\n",
       "10   NaN\n",
       "Name: YearsCodedJobPast, dtype: float64"
      ]
     },
     "execution_count": 17,
     "metadata": {},
     "output_type": "execute_result"
    }
   ],
   "source": [
    "df.YearsCodedJobPast.head(10)"
   ]
  },
  {
   "cell_type": "markdown",
   "metadata": {},
   "source": [
    "<div class=\"alert alert-block alert-info\">\n",
    "We have more than 50000 nan for this columns!"
   ]
  },
  {
   "cell_type": "markdown",
   "metadata": {},
   "source": [
    "### Developer Type"
   ]
  },
  {
   "cell_type": "code",
   "execution_count": 28,
   "metadata": {
    "scrolled": true
   },
   "outputs": [],
   "source": [
    "DT = df.DeveloperType[df['DeveloperType'].notnull().tolist()]"
   ]
  },
  {
   "cell_type": "code",
   "execution_count": 23,
   "metadata": {},
   "outputs": [],
   "source": [
    "DTlist = []\n",
    "for i in DT:\n",
    "    t = i.replace(\" \",\"\").replace(\"[\",\"\").replace(\";\",\" \").split()\n",
    "    DTlist.append(t)"
   ]
  },
  {
   "cell_type": "code",
   "execution_count": 24,
   "metadata": {},
   "outputs": [],
   "source": [
    "DTs = str(DTlist)\n",
    "replace = [\"[\", \"]\", \"'\", \"'\",\" \"]\n",
    "for i in replace:\n",
    "    if i in DTs:\n",
    "        DTs = DTs.replace(i,'')"
   ]
  },
  {
   "cell_type": "code",
   "execution_count": 25,
   "metadata": {},
   "outputs": [],
   "source": [
    "DTl = DTs.split(\",\")"
   ]
  },
  {
   "cell_type": "code",
   "execution_count": 26,
   "metadata": {},
   "outputs": [
    {
     "name": "stdout",
     "output_type": "stream",
     "text": [
      "['Other', 'Mobiledeveloper', 'Graphicsprogramming', 'Desktopapplicationsdeveloper', 'Webdeveloper', 'Embeddedapplications/devicesdeveloper', 'DevOpsspecialist', 'Qualityassuranceengineer', 'Datascientist', 'Machinelearningspecialist', 'Developerwithastatisticsormathematicsbackground', 'Databaseadministrator', 'Systemsadministrator', 'Graphicdesigner']\n"
     ]
    }
   ],
   "source": [
    "DTU = []\n",
    "for w in DTl:\n",
    "    if w not in DTU:\n",
    "        DTU.append(w)\n",
    "\n",
    "print(DTU)"
   ]
  },
  {
   "cell_type": "markdown",
   "metadata": {},
   "source": [
    "Unique Developer Type we have: <br>\n",
    "'Other', 'Mobiledeveloper', 'Graphicsprogramming', 'Desktopapplicationsdeveloper', 'Webdeveloper', 'Embeddedapplications/devicesdeveloper', 'DevOpsspecialist', 'Qualityassuranceengineer', 'Datascientist', 'Machinelearningspecialist', 'Developerwithastatisticsormathematicsbackground', 'Databaseadministrator', 'Systemsadministrator', 'Graphicdesigner'"
   ]
  },
  {
   "cell_type": "markdown",
   "metadata": {},
   "source": [
    "##### Distinguished by Developer"
   ]
  },
  {
   "cell_type": "markdown",
   "metadata": {},
   "source": [
    "<div class=\"alert alert-block alert-info\">\n",
    "- Developer: 'Mobiledeveloper', 'Desktopapplicationsdeveloper', 'Embeddedapplications/devicesdeveloper','Developerwithastatisticsormathematicsbackground'  <br>\n",
    "- Non-developer:'Graphicsprogramming','DevOpsspecialist','Qualityassuranceengineer','Datascientist','Machinelearningspecialist','Databaseadministrator', 'Systemsadministrator', 'Graphicdesigner'"
   ]
  },
  {
   "cell_type": "code",
   "execution_count": 29,
   "metadata": {},
   "outputs": [],
   "source": [
    "df['IsDeveloper'] = df.DeveloperType[df['DeveloperType'].notnull()].apply(\n",
    "    lambda x: 1 if 'developer' in x else 0)"
   ]
  },
  {
   "cell_type": "markdown",
   "metadata": {},
   "source": [
    "##### Distinguished by Data Scientist"
   ]
  },
  {
   "cell_type": "code",
   "execution_count": 30,
   "metadata": {},
   "outputs": [],
   "source": [
    "NDT = df.NonDeveloperType[df['NonDeveloperType'].notnull().tolist()]"
   ]
  },
  {
   "cell_type": "code",
   "execution_count": 31,
   "metadata": {},
   "outputs": [],
   "source": [
    "NDTlist = []\n",
    "for i in NDT:\n",
    "    t = i.replace(\" \",\"\").replace(\"[\",\"\").replace(\";\",\" \").split()\n",
    "    NDTlist.append(t)"
   ]
  },
  {
   "cell_type": "code",
   "execution_count": 32,
   "metadata": {},
   "outputs": [],
   "source": [
    "NDTs = str(NDTlist)"
   ]
  },
  {
   "cell_type": "code",
   "execution_count": 33,
   "metadata": {},
   "outputs": [],
   "source": [
    "replace = [\"[\", \"]\", \"'\", \"'\",\" \"]\n",
    "for i in replace:\n",
    "    if i in NDTs:\n",
    "        NDTs = NDTs.replace(i,'')"
   ]
  },
  {
   "cell_type": "code",
   "execution_count": 34,
   "metadata": {},
   "outputs": [],
   "source": [
    "NDTl = NDTs.split(\",\")"
   ]
  },
  {
   "cell_type": "code",
   "execution_count": 35,
   "metadata": {},
   "outputs": [
    {
     "name": "stdout",
     "output_type": "stream",
     "text": [
      "['Datascientist', 'Other', 'C-suiteexecutive', 'Productmanager', 'Educatororacademic', 'Analystorconsultant', 'Marketingorsalesmanager', 'Designerorillustrator', 'Electedofficial']\n"
     ]
    }
   ],
   "source": [
    "NDTU = []\n",
    "for w in NDTl:\n",
    "    if w not in NDTU:\n",
    "        NDTU.append(w)\n",
    "\n",
    "print(NDTU)"
   ]
  },
  {
   "cell_type": "markdown",
   "metadata": {},
   "source": [
    "<div class=\"alert alert-block alert-info\">\n",
    "- Data: 'Datascientist', 'Machinelearningspecialist', 'Developerwithastatisticsormathematicsbackground', 'Databaseadministrator', 'Analystorconsultant'<br>\n",
    "- Non-Data: 'Other', 'Mobiledeveloper', 'Graphicsprogramming', 'Desktopapplicationsdeveloper', 'Webdeveloper', 'Embeddedapplications/devicesdeveloper', 'DevOpsspecialist', 'Qualityassuranceengineer','Systemsadministrator', 'Graphicdesigner','C-suiteexecutive', 'Productmanager', 'Educatororacademic', 'Marketingorsalesmanager', 'Designerorillustrator', 'Electedofficial'"
   ]
  },
  {
   "cell_type": "markdown",
   "metadata": {},
   "source": [
    "### Career Satisfaction"
   ]
  },
  {
   "cell_type": "code",
   "execution_count": 36,
   "metadata": {},
   "outputs": [
    {
     "data": {
      "text/plain": [
       "array([nan,  8.,  6.,  7.,  3.,  9.,  5., 10.,  4.,  0.,  2.,  1.])"
      ]
     },
     "execution_count": 36,
     "metadata": {},
     "output_type": "execute_result"
    }
   ],
   "source": [
    "df.CareerSatisfaction.unique()"
   ]
  },
  {
   "cell_type": "code",
   "execution_count": 37,
   "metadata": {},
   "outputs": [],
   "source": [
    "df['CareerSatisfactionDummy'] = df.CareerSatisfaction[\n",
    "    df['CareerSatisfaction'].notnull()].apply(lambda x: 1 if x >= 7 else 0)"
   ]
  },
  {
   "cell_type": "code",
   "execution_count": 38,
   "metadata": {},
   "outputs": [
    {
     "data": {
      "text/plain": [
       "array([nan,  1.,  0.])"
      ]
     },
     "execution_count": 38,
     "metadata": {},
     "output_type": "execute_result"
    }
   ],
   "source": [
    "df.CareerSatisfactionDummy.unique()"
   ]
  },
  {
   "cell_type": "code",
   "execution_count": 39,
   "metadata": {},
   "outputs": [
    {
     "data": {
      "text/plain": [
       "CareerSatisfactionDummy\n",
       "0.0    11287\n",
       "1.0    31408\n",
       "nan     8697\n",
       "Name: Professional, dtype: int64"
      ]
     },
     "execution_count": 39,
     "metadata": {},
     "output_type": "execute_result"
    }
   ],
   "source": [
    "df.astype(str).groupby('CareerSatisfactionDummy')['Professional'].count()"
   ]
  },
  {
   "cell_type": "markdown",
   "metadata": {},
   "source": [
    "### Job Satisfaction"
   ]
  },
  {
   "cell_type": "code",
   "execution_count": 40,
   "metadata": {},
   "outputs": [
    {
     "data": {
      "text/plain": [
       "array([nan,  9.,  3.,  8.,  6.,  7.,  5.,  4., 10.,  2.,  0.,  1.])"
      ]
     },
     "execution_count": 40,
     "metadata": {},
     "output_type": "execute_result"
    }
   ],
   "source": [
    "df.JobSatisfaction.unique()"
   ]
  },
  {
   "cell_type": "code",
   "execution_count": 41,
   "metadata": {},
   "outputs": [],
   "source": [
    "df['JobSatisfactionDummy'] = df.JobSatisfaction[\n",
    "    df['JobSatisfaction'].notnull()].apply(lambda x: 1 if x >= 7 else 0)"
   ]
  },
  {
   "cell_type": "code",
   "execution_count": 42,
   "metadata": {},
   "outputs": [
    {
     "data": {
      "text/plain": [
       "array([nan,  1.,  0.])"
      ]
     },
     "execution_count": 42,
     "metadata": {},
     "output_type": "execute_result"
    }
   ],
   "source": [
    "df.JobSatisfactionDummy.unique()"
   ]
  },
  {
   "cell_type": "code",
   "execution_count": 43,
   "metadata": {},
   "outputs": [
    {
     "data": {
      "text/plain": [
       "JobSatisfactionDummy\n",
       "0.0    13703\n",
       "1.0    26673\n",
       "nan    11016\n",
       "Name: Professional, dtype: int64"
      ]
     },
     "execution_count": 43,
     "metadata": {},
     "output_type": "execute_result"
    }
   ],
   "source": [
    "df.astype(str).groupby('JobSatisfactionDummy')['Professional'].count()"
   ]
  },
  {
   "cell_type": "markdown",
   "metadata": {},
   "source": [
    "### Job Seeking Status"
   ]
  },
  {
   "cell_type": "code",
   "execution_count": 44,
   "metadata": {},
   "outputs": [
    {
     "data": {
      "text/plain": [
       "array([\"I'm not actively looking, but I am open to new opportunities\",\n",
       "       nan, 'I am actively looking for a job',\n",
       "       'I am not interested in new job opportunities'], dtype=object)"
      ]
     },
     "execution_count": 44,
     "metadata": {},
     "output_type": "execute_result"
    }
   ],
   "source": [
    "df.JobSeekingStatus.unique()"
   ]
  },
  {
   "cell_type": "code",
   "execution_count": 45,
   "metadata": {},
   "outputs": [],
   "source": [
    "df['JobSeekingStatusDummy'] = df.JobSeekingStatus[\n",
    "    df['JobSeekingStatus'].notnull()].apply(lambda x: 1 if x.startswith(\"I am actively\") else 0)"
   ]
  },
  {
   "cell_type": "code",
   "execution_count": 47,
   "metadata": {
    "scrolled": true
   },
   "outputs": [
    {
     "data": {
      "text/html": [
       "<div>\n",
       "<style scoped>\n",
       "    .dataframe tbody tr th:only-of-type {\n",
       "        vertical-align: middle;\n",
       "    }\n",
       "\n",
       "    .dataframe tbody tr th {\n",
       "        vertical-align: top;\n",
       "    }\n",
       "\n",
       "    .dataframe thead th {\n",
       "        text-align: right;\n",
       "    }\n",
       "</style>\n",
       "<table border=\"1\" class=\"dataframe\">\n",
       "  <thead>\n",
       "    <tr style=\"text-align: right;\">\n",
       "      <th></th>\n",
       "      <th>JobSeekingStatusDummy</th>\n",
       "      <th>JobSeekingStatus</th>\n",
       "    </tr>\n",
       "    <tr>\n",
       "      <th>Respondent</th>\n",
       "      <th></th>\n",
       "      <th></th>\n",
       "    </tr>\n",
       "  </thead>\n",
       "  <tbody>\n",
       "    <tr>\n",
       "      <th>1</th>\n",
       "      <td>0.0</td>\n",
       "      <td>I'm not actively looking, but I am open to new...</td>\n",
       "    </tr>\n",
       "    <tr>\n",
       "      <th>2</th>\n",
       "      <td>NaN</td>\n",
       "      <td>NaN</td>\n",
       "    </tr>\n",
       "    <tr>\n",
       "      <th>3</th>\n",
       "      <td>NaN</td>\n",
       "      <td>NaN</td>\n",
       "    </tr>\n",
       "    <tr>\n",
       "      <th>4</th>\n",
       "      <td>1.0</td>\n",
       "      <td>I am actively looking for a job</td>\n",
       "    </tr>\n",
       "    <tr>\n",
       "      <th>5</th>\n",
       "      <td>NaN</td>\n",
       "      <td>NaN</td>\n",
       "    </tr>\n",
       "    <tr>\n",
       "      <th>6</th>\n",
       "      <td>0.0</td>\n",
       "      <td>I'm not actively looking, but I am open to new...</td>\n",
       "    </tr>\n",
       "    <tr>\n",
       "      <th>7</th>\n",
       "      <td>0.0</td>\n",
       "      <td>I'm not actively looking, but I am open to new...</td>\n",
       "    </tr>\n",
       "    <tr>\n",
       "      <th>8</th>\n",
       "      <td>0.0</td>\n",
       "      <td>I'm not actively looking, but I am open to new...</td>\n",
       "    </tr>\n",
       "    <tr>\n",
       "      <th>9</th>\n",
       "      <td>0.0</td>\n",
       "      <td>I am not interested in new job opportunities</td>\n",
       "    </tr>\n",
       "    <tr>\n",
       "      <th>10</th>\n",
       "      <td>0.0</td>\n",
       "      <td>I'm not actively looking, but I am open to new...</td>\n",
       "    </tr>\n",
       "  </tbody>\n",
       "</table>\n",
       "</div>"
      ],
      "text/plain": [
       "            JobSeekingStatusDummy  \\\n",
       "Respondent                          \n",
       "1                             0.0   \n",
       "2                             NaN   \n",
       "3                             NaN   \n",
       "4                             1.0   \n",
       "5                             NaN   \n",
       "6                             0.0   \n",
       "7                             0.0   \n",
       "8                             0.0   \n",
       "9                             0.0   \n",
       "10                            0.0   \n",
       "\n",
       "                                             JobSeekingStatus  \n",
       "Respondent                                                     \n",
       "1           I'm not actively looking, but I am open to new...  \n",
       "2                                                         NaN  \n",
       "3                                                         NaN  \n",
       "4                             I am actively looking for a job  \n",
       "5                                                         NaN  \n",
       "6           I'm not actively looking, but I am open to new...  \n",
       "7           I'm not actively looking, but I am open to new...  \n",
       "8           I'm not actively looking, but I am open to new...  \n",
       "9                I am not interested in new job opportunities  \n",
       "10          I'm not actively looking, but I am open to new...  "
      ]
     },
     "execution_count": 47,
     "metadata": {},
     "output_type": "execute_result"
    }
   ],
   "source": [
    "df[['JobSeekingStatusDummy','JobSeekingStatus']].head(10)"
   ]
  },
  {
   "cell_type": "code",
   "execution_count": 48,
   "metadata": {},
   "outputs": [
    {
     "data": {
      "text/plain": [
       "JobSeekingStatusDummy\n",
       "0.0    29009\n",
       "1.0     4371\n",
       "nan    18012\n",
       "Name: Professional, dtype: int64"
      ]
     },
     "execution_count": 48,
     "metadata": {},
     "output_type": "execute_result"
    }
   ],
   "source": [
    "df.astype(str).groupby('JobSeekingStatusDummy')['Professional'].count()"
   ]
  },
  {
   "cell_type": "markdown",
   "metadata": {},
   "source": [
    "### Last New Job"
   ]
  },
  {
   "cell_type": "markdown",
   "metadata": {},
   "source": [
    "<div class=\"alert alert-block alert-info\">\n",
    "0:less than 2 <br>\n",
    "1:greater than 2"
   ]
  },
  {
   "cell_type": "code",
   "execution_count": 49,
   "metadata": {},
   "outputs": [
    {
     "data": {
      "text/plain": [
       "array(['Not applicable/ never', nan, 'Between 2 and 4 years ago',\n",
       "       'More than 4 years ago', 'Less than a year ago',\n",
       "       'Between 1 and 2 years ago'], dtype=object)"
      ]
     },
     "execution_count": 49,
     "metadata": {},
     "output_type": "execute_result"
    }
   ],
   "source": [
    "df.LastNewJob.unique()"
   ]
  },
  {
   "cell_type": "code",
   "execution_count": 50,
   "metadata": {},
   "outputs": [],
   "source": [
    "df['LastNewJobDummy'] = df['LastNewJob'].replace({\n",
    "    'Not applicable/ never': 0, 'Between 2 and 4 years ago': 1,\n",
    "    'More than 4 years ago': 1, 'Less than a year ago': 0,\n",
    "    'Between 1 and 2 years ago': 0})"
   ]
  },
  {
   "cell_type": "code",
   "execution_count": 51,
   "metadata": {},
   "outputs": [
    {
     "data": {
      "text/plain": [
       "LastNewJobDummy\n",
       "0.0    20572\n",
       "1.0    12138\n",
       "nan    18682\n",
       "Name: Professional, dtype: int64"
      ]
     },
     "execution_count": 51,
     "metadata": {},
     "output_type": "execute_result"
    }
   ],
   "source": [
    "df.astype(str).groupby('LastNewJobDummy')['Professional'].count()"
   ]
  },
  {
   "cell_type": "markdown",
   "metadata": {},
   "source": [
    "### Job Profile"
   ]
  },
  {
   "cell_type": "code",
   "execution_count": 52,
   "metadata": {},
   "outputs": [
    {
     "data": {
      "text/plain": [
       "array(['Other', nan, 'LinkedIn; Other', 'LinkedIn',\n",
       "       'LinkedIn; Monster; Other', 'LinkedIn; Xing',\n",
       "       'Indeed; LinkedIn; Monster', 'LinkedIn; Monster',\n",
       "       'Indeed; LinkedIn', 'LinkedIn; Naukri', 'Xing',\n",
       "       'JobSite.co.uk; LinkedIn',\n",
       "       'Dice; Glassdoor; Hired.com; Indeed; LinkedIn; Monster',\n",
       "       'LinkedIn; Reed.co.uk', 'Hired.com; LinkedIn; Other',\n",
       "       'LinkedIn; Remix_jobs',\n",
       "       'Dice; Glassdoor; Hired.com; Indeed; LinkedIn; Monster; TripleByte',\n",
       "       'Indeed; StepStone', 'Dice', 'Indeed; LinkedIn; Monster; Naukri',\n",
       "       'LinkedIn; Monster; Naukri', 'Glassdoor; Indeed; LinkedIn',\n",
       "       'Indeed; LinkedIn; TripleByte', 'Glassdoor; LinkedIn; Monster',\n",
       "       'Dice; Glassdoor; Hired.com; LinkedIn; Monster', 'Monster',\n",
       "       'Hired.com; LinkedIn; Monster; Other', 'CW_Jobs; Indeed',\n",
       "       'Dice; Indeed; Monster', 'LinkedIn; Other; Xing',\n",
       "       'Dice; Indeed; LinkedIn; Monster', 'CW_Jobs; LinkedIn',\n",
       "       'LinkedIn; Monster; Workopolis',\n",
       "       'Glassdoor; Indeed; LinkedIn; Monster', 'Glassdoor; LinkedIn',\n",
       "       'Dice; Indeed; LinkedIn; Monster; Other',\n",
       "       'Indeed; LinkedIn; Reed.co.uk', 'LinkedIn; TripleByte', 'Naukri',\n",
       "       'Indeed', 'Hired.com; Indeed; LinkedIn; Other',\n",
       "       'Dice; LinkedIn; Monster', 'Hired.com; Indeed; LinkedIn',\n",
       "       'Dice; Glassdoor; Indeed; LinkedIn; Monster',\n",
       "       'Monster; Reed.co.uk; Total_Jobs', 'Dice; Indeed; LinkedIn',\n",
       "       'Hired.com; LinkedIn', 'Dice; LinkedIn; Other', 'Other; Xing',\n",
       "       'Indeed; JobSite.co.uk; LinkedIn; Monster; Reed.co.uk',\n",
       "       'Glassdoor; Indeed; JobSite.co.uk; Reed.co.uk', 'LinkedIn; Pracuj',\n",
       "       'Hired.com; Other', 'Glassdoor; Hired.com; Indeed; LinkedIn',\n",
       "       'Glassdoor; Hired.com; LinkedIn', 'CW_Jobs; LinkedIn; Total_Jobs',\n",
       "       'Dice; LinkedIn; Monster; Xing',\n",
       "       'Glassdoor; Hired.com; Indeed; LinkedIn; Monster',\n",
       "       'Dice; LinkedIn', 'Dice; Hired.com; LinkedIn',\n",
       "       'Glassdoor; Hired.com; Indeed; Monster', 'Indeed; Other',\n",
       "       'Indeed; LinkedIn; Other', 'LinkedIn; Naukri; Other',\n",
       "       'Monster; Workopolis', 'Reed.co.uk; Total_Jobs',\n",
       "       'Dice; Glassdoor; Indeed; LinkedIn', 'Dice; Glassdoor; LinkedIn',\n",
       "       'CW_Jobs; Indeed; LinkedIn; Reed.co.uk',\n",
       "       'Hired.com; Indeed; LinkedIn; Monster', 'Pracuj',\n",
       "       'LinkedIn; Other; Workopolis',\n",
       "       'Hired.com; Indeed; LinkedIn; Monster; Remix_jobs',\n",
       "       'Dice; Glassdoor', 'Indeed; LinkedIn; Pracuj',\n",
       "       'LinkedIn; Monster; StepStone; Xing',\n",
       "       'LinkedIn; Other; TripleByte', 'Indeed; Monster; Other',\n",
       "       'Glassdoor; LinkedIn; Other',\n",
       "       'CW_Jobs; JobSite.co.uk; LinkedIn; Other',\n",
       "       'Glassdoor; Indeed; JobSite.co.uk; LinkedIn; Monster',\n",
       "       'CW_Jobs; Glassdoor; LinkedIn; Reed.co.uk; Total_Jobs',\n",
       "       'CW_Jobs; Glassdoor; JobSite.co.uk; LinkedIn; Monster',\n",
       "       'Indeed; Monster', 'CW_Jobs; JobSite.co.uk; LinkedIn',\n",
       "       'Glassdoor; Indeed', 'Indeed; Monster; Workopolis',\n",
       "       'Glassdoor; Indeed; Monster', 'Dice; Indeed; LinkedIn; Other',\n",
       "       'Hired.com; LinkedIn; Reed.co.uk', 'Dice; Glassdoor; Other',\n",
       "       'Indeed; LinkedIn; Workopolis', 'Naukri; Other', 'Monster; Other',\n",
       "       'Hired.com', 'Glassdoor; Hired.com', 'Hired.com; LinkedIn; Naukri',\n",
       "       'Monster; Naukri', 'Indeed; LinkedIn; Monster; Naukri; Other',\n",
       "       'Indeed; LinkedIn; Naukri', 'LinkedIn; Monster; Xing',\n",
       "       'LinkedIn; Monster; Naukri; Other', 'Indeed; Monster; Pracuj',\n",
       "       'Indeed; Naukri', 'Hired.com; LinkedIn; Monster',\n",
       "       'CW_Jobs; Indeed; LinkedIn; Monster; Reed.co.uk',\n",
       "       'Indeed; LinkedIn; Monster; Remix_jobs',\n",
       "       'Dice; LinkedIn; Monster; Reed.co.uk; Total_Jobs',\n",
       "       'LinkedIn; Talent.io', 'Indeed; LinkedIn; Talent.io',\n",
       "       'CW_Jobs; Glassdoor; Hired.com; Indeed; JobSite.co.uk; LinkedIn; Monster; Reed.co.uk; Total_Jobs',\n",
       "       'CW_Jobs; Indeed; JobSite.co.uk; Reed.co.uk; Total_Jobs',\n",
       "       'Indeed; Naukri; Other',\n",
       "       'Glassdoor; LinkedIn; Monster; Reed.co.uk',\n",
       "       'JobSite.co.uk; LinkedIn; Other',\n",
       "       'Indeed; JobSite.co.uk; LinkedIn; Total_Jobs',\n",
       "       'CW_Jobs; JobSite.co.uk; LinkedIn; Reed.co.uk',\n",
       "       'JobSite.co.uk; Monster; Reed.co.uk; Total_Jobs',\n",
       "       'Indeed; Monster; Naukri', 'Indeed; LinkedIn; Monster; Xing',\n",
       "       'Glassdoor',\n",
       "       'CW_Jobs; Dice; Hired.com; Indeed; JobSite.co.uk; LinkedIn; Monster; Talent.io; Total_Jobs',\n",
       "       'Indeed; LinkedIn; Monster; Other',\n",
       "       'Glassdoor; Indeed; JobSite.co.uk; LinkedIn; Monster; Reed.co.uk',\n",
       "       'Dice; Hired.com; Indeed; LinkedIn; Monster; Naukri',\n",
       "       'Dice; LinkedIn; Monster; Reed.co.uk',\n",
       "       'CW_Jobs; JobSite.co.uk; Reed.co.uk', 'Total_Jobs',\n",
       "       'Dice; Monster', 'Glassdoor; Hired.com; LinkedIn; Monster; Other',\n",
       "       'CW_Jobs; Glassdoor; Indeed; JobSite.co.uk; LinkedIn; Monster; Reed.co.uk; Total_Jobs',\n",
       "       'CW_Jobs; Dice; Glassdoor; Indeed; JobSite.co.uk; LinkedIn; Monster; Reed.co.uk',\n",
       "       'StepStone; Xing', 'CW_Jobs; Indeed; JobSite.co.uk; Monster',\n",
       "       'CW_Jobs; LinkedIn; Monster', 'Dice; Other',\n",
       "       'CW_Jobs; Indeed; JobSite.co.uk; LinkedIn; Reed.co.uk; Total_Jobs',\n",
       "       'Indeed; LinkedIn; Monster; Workopolis',\n",
       "       'CW_Jobs; JobSite.co.uk; Monster; Total_Jobs',\n",
       "       'CW_Jobs; JobSite.co.uk',\n",
       "       'Dice; Glassdoor; Hired.com; Indeed; LinkedIn; Monster; Other',\n",
       "       'Indeed; LinkedIn; Xing',\n",
       "       'CW_Jobs; Indeed; JobSite.co.uk; LinkedIn; Monster; Reed.co.uk; Total_Jobs',\n",
       "       'LinkedIn; Workopolis',\n",
       "       'Glassdoor; Indeed; LinkedIn; Monster; Workopolis',\n",
       "       'JobSite.co.uk; Monster',\n",
       "       'Dice; Hired.com; Indeed; LinkedIn; Monster',\n",
       "       'Dice; Glassdoor; LinkedIn; Monster',\n",
       "       'Indeed; JobSite.co.uk; Monster',\n",
       "       'Indeed; LinkedIn; Monster; Reed.co.uk; Talent.io',\n",
       "       'Dice; Indeed; Monster; Other', 'Monster; StepStone; Xing',\n",
       "       'Dice; LinkedIn; Monster; Other',\n",
       "       'CW_Jobs; Glassdoor; Hired.com; LinkedIn',\n",
       "       'Indeed; LinkedIn; Monster; Reed.co.uk',\n",
       "       'JobSite.co.uk; LinkedIn; Total_Jobs',\n",
       "       'Dice; Indeed; LinkedIn; Pracuj', 'LinkedIn; Monster; Reed.co.uk',\n",
       "       'StepStone', 'Monster; Naukri; Other',\n",
       "       'Dice; Indeed; LinkedIn; Monster; Naukri', 'Hired.com; Talent.io',\n",
       "       'Glassdoor; LinkedIn; Monster; Workopolis',\n",
       "       'LinkedIn; Monster; Talent.io', 'Talent.io',\n",
       "       'Indeed; LinkedIn; StepStone',\n",
       "       'Hired.com; Indeed; LinkedIn; Naukri; Other',\n",
       "       'CW_Jobs; Glassdoor; Indeed', 'Hired.com; Indeed; Monster',\n",
       "       'CW_Jobs; LinkedIn; Reed.co.uk',\n",
       "       'JobSite.co.uk; LinkedIn; Monster', 'Dice; Indeed',\n",
       "       'Indeed; Workopolis',\n",
       "       'Hired.com; Indeed; LinkedIn; Monster; Naukri',\n",
       "       'CW_Jobs; LinkedIn; Other', 'Indeed; StepStone; Xing',\n",
       "       'CW_Jobs; Dice; LinkedIn; Total_Jobs',\n",
       "       'CW_Jobs; Dice; LinkedIn; Monster; Other; Reed.co.uk',\n",
       "       'CW_Jobs; JobSite.co.uk; Other; Total_Jobs',\n",
       "       'CW_Jobs; JobSite.co.uk; LinkedIn; Total_Jobs',\n",
       "       'Dice; Hired.com; LinkedIn; Other', 'LinkedIn; StepStone',\n",
       "       'Monster; Xing', 'JobSite.co.uk', 'LinkedIn; Monster; Pracuj',\n",
       "       'CW_Jobs',\n",
       "       'CW_Jobs; JobSite.co.uk; LinkedIn; Monster; Reed.co.uk; Total_Jobs',\n",
       "       'Dice; LinkedIn; Xing', 'Dice; Indeed; Other',\n",
       "       'LinkedIn; StepStone; Xing',\n",
       "       'Dice; Glassdoor; Hired.com; Indeed; LinkedIn; Monster; Workopolis',\n",
       "       'CW_Jobs; Glassdoor; Indeed; JobSite.co.uk; LinkedIn; Reed.co.uk; Total_Jobs',\n",
       "       'CW_Jobs; Dice; Indeed; Monster; Reed.co.uk',\n",
       "       'JobSite.co.uk; LinkedIn; Other; Total_Jobs',\n",
       "       'Glassdoor; LinkedIn; Monster; Other', 'Dice; Hired.com; Monster',\n",
       "       'CW_Jobs; Glassdoor; Indeed; LinkedIn; Monster; Reed.co.uk; Total_Jobs',\n",
       "       'CW_Jobs; Indeed; JobSite.co.uk; LinkedIn',\n",
       "       'CW_Jobs; JobSite.co.uk; LinkedIn; Monster', 'Reed.co.uk',\n",
       "       'CW_Jobs; Glassdoor; Hired.com; Indeed; JobSite.co.uk; Reed.co.uk',\n",
       "       'CW_Jobs; Glassdoor; JobSite.co.uk; LinkedIn; Monster; Reed.co.uk',\n",
       "       'JobSite.co.uk; LinkedIn; Monster; Reed.co.uk; Total_Jobs',\n",
       "       'Remix_jobs', 'JobSite.co.uk; Reed.co.uk',\n",
       "       'Indeed; LinkedIn; Monster; StepStone', 'Hired.com; Indeed',\n",
       "       'Dice; Glassdoor; Hired.com; Indeed; LinkedIn',\n",
       "       'Glassdoor; Hired.com; LinkedIn; Monster',\n",
       "       'LinkedIn; Other; Talent.io',\n",
       "       'JobSite.co.uk; LinkedIn; Monster; Reed.co.uk',\n",
       "       'Glassdoor; Indeed; LinkedIn; Total_Jobs',\n",
       "       'Glassdoor; Indeed; JobSite.co.uk; LinkedIn; Total_Jobs',\n",
       "       'Indeed; LinkedIn; Remix_jobs',\n",
       "       'CW_Jobs; Indeed; JobSite.co.uk; LinkedIn; Monster',\n",
       "       'Dice; Hired.com; LinkedIn; Xing',\n",
       "       'Hired.com; Indeed; JobSite.co.uk; LinkedIn; Talent.io',\n",
       "       'CW_Jobs; Hired.com; Indeed; Monster', 'Other; StepStone; Xing',\n",
       "       'Dice; Glassdoor; Indeed',\n",
       "       'Indeed; LinkedIn; Monster; StepStone; Xing',\n",
       "       'Dice; Glassdoor; Indeed; LinkedIn; Monster; Other',\n",
       "       'Dice; Hired.com; Indeed', 'Dice; LinkedIn; Naukri',\n",
       "       'Glassdoor; Hired.com; LinkedIn; Other',\n",
       "       'Dice; Indeed; LinkedIn; Naukri', 'Hired.com; LinkedIn; Talent.io',\n",
       "       'Hired.com; LinkedIn; Xing',\n",
       "       'CW_Jobs; Dice; Hired.com; Indeed; JobSite.co.uk; LinkedIn; Monster; Total_Jobs',\n",
       "       'Indeed; Monster; Naukri; Other',\n",
       "       'Hired.com; Indeed; JobSite.co.uk; LinkedIn; Monster; Total_Jobs',\n",
       "       'JobSite.co.uk; Other; Total_Jobs', 'Indeed; Reed.co.uk',\n",
       "       'CW_Jobs; Indeed; Reed.co.uk; Total_Jobs', 'CW_Jobs; Total_Jobs',\n",
       "       'LinkedIn; Monster; StepStone',\n",
       "       'Hired.com; LinkedIn; Monster; Workopolis',\n",
       "       'Hired.com; LinkedIn; Other; Remix_jobs; Talent.io',\n",
       "       'Dice; Hired.com; Indeed; LinkedIn',\n",
       "       'Dice; Glassdoor; Indeed; LinkedIn; Other',\n",
       "       'Hired.com; LinkedIn; Remix_jobs',\n",
       "       'Indeed; LinkedIn; Reed.co.uk; Total_Jobs',\n",
       "       'CW_Jobs; Dice; Indeed; JobSite.co.uk; LinkedIn; Monster; Reed.co.uk; Total_Jobs',\n",
       "       'JobSite.co.uk; LinkedIn; Other; Reed.co.uk',\n",
       "       'LinkedIn; Total_Jobs', 'Indeed; JobSite.co.uk',\n",
       "       'Glassdoor; JobSite.co.uk; LinkedIn',\n",
       "       'Indeed; Monster; Reed.co.uk', 'CW_Jobs; Indeed; LinkedIn',\n",
       "       'CW_Jobs; JobSite.co.uk; LinkedIn; Reed.co.uk; Total_Jobs',\n",
       "       'Monster; Reed.co.uk', 'Glassdoor; LinkedIn; TripleByte',\n",
       "       'LinkedIn; Talent.io; Xing', 'Other; Reed.co.uk',\n",
       "       'Indeed; LinkedIn; StepStone; Xing', 'Hired.com; Monster',\n",
       "       'CW_Jobs; Glassdoor; Hired.com; JobSite.co.uk; LinkedIn; Talent.io; Total_Jobs',\n",
       "       'Indeed; LinkedIn; Talent.io; Total_Jobs', 'Indeed; Remix_jobs',\n",
       "       'Indeed; JobSite.co.uk; Monster; Reed.co.uk; Total_Jobs',\n",
       "       'Indeed; LinkedIn; Total_Jobs', 'Hired.com; LinkedIn; TripleByte',\n",
       "       'Dice; LinkedIn; Total_Jobs', 'TripleByte',\n",
       "       'Indeed; LinkedIn; Naukri; Other',\n",
       "       'Glassdoor; Hired.com; Indeed; LinkedIn; Monster; Other',\n",
       "       'Dice; Indeed; Monster; Naukri',\n",
       "       'Dice; Glassdoor; Indeed; JobSite.co.uk; LinkedIn; Monster; Reed.co.uk; Total_Jobs',\n",
       "       'CW_Jobs; JobSite.co.uk; LinkedIn; Monster; Other; Total_Jobs',\n",
       "       'CW_Jobs; Dice; JobSite.co.uk; LinkedIn; Reed.co.uk',\n",
       "       'Dice; Glassdoor; Monster', 'Glassdoor; Indeed; LinkedIn; Other',\n",
       "       'Dice; LinkedIn; StepStone; Xing', 'CW_Jobs; Indeed; Monster',\n",
       "       'LinkedIn; Monster; Other; StepStone', 'Monster; Other; StepStone',\n",
       "       'Indeed; JobSite.co.uk; LinkedIn',\n",
       "       'CW_Jobs; LinkedIn; Monster; Reed.co.uk; Talent.io',\n",
       "       'Glassdoor; Hired.com; Indeed; LinkedIn; TripleByte',\n",
       "       'Hired.com; Indeed; LinkedIn; Naukri',\n",
       "       'Indeed; LinkedIn; Remix_jobs; Talent.io', 'CW_Jobs; Reed.co.uk',\n",
       "       'JobSite.co.uk; LinkedIn; Monster; Total_Jobs',\n",
       "       'Dice; Hired.com; LinkedIn; Monster',\n",
       "       'Dice; Hired.com; Indeed; Monster',\n",
       "       'Indeed; LinkedIn; Monster; Talent.io',\n",
       "       'Dice; Hired.com; Indeed; LinkedIn; Other', 'Glassdoor; Monster',\n",
       "       'Hired.com; Indeed; LinkedIn; Monster; Workopolis',\n",
       "       'CW_Jobs; Glassdoor; LinkedIn; Monster; Total_Jobs',\n",
       "       'CW_Jobs; Glassdoor; JobSite.co.uk; LinkedIn',\n",
       "       'CW_Jobs; Dice; Hired.com; Indeed; LinkedIn; Monster; Talent.io; Total_Jobs',\n",
       "       'Dice; Glassdoor; Hired.com; LinkedIn',\n",
       "       'Dice; LinkedIn; Monster; Naukri', 'Monster; StepStone',\n",
       "       'Indeed; Monster; StepStone; Xing',\n",
       "       'CW_Jobs; JobSite.co.uk; Monster; Reed.co.uk; Total_Jobs',\n",
       "       'LinkedIn; Monster; Remix_jobs', 'Hired.com; Other; Talent.io',\n",
       "       'Dice; Glassdoor; Hired.com; Indeed; LinkedIn; Other; TripleByte',\n",
       "       'CW_Jobs; Hired.com; JobSite.co.uk; LinkedIn; Reed.co.uk',\n",
       "       'CW_Jobs; Indeed; JobSite.co.uk; Monster; Reed.co.uk; Total_Jobs',\n",
       "       'Hired.com; LinkedIn; Other; Xing',\n",
       "       'CW_Jobs; LinkedIn; Monster; Total_Jobs',\n",
       "       'CW_Jobs; Dice; JobSite.co.uk; LinkedIn; Total_Jobs',\n",
       "       'CW_Jobs; Glassdoor; Hired.com; Indeed; JobSite.co.uk; LinkedIn; Monster',\n",
       "       'Indeed; Monster; Remix_jobs', 'Glassdoor; LinkedIn; Total_Jobs',\n",
       "       'Dice; Indeed; LinkedIn; Reed.co.uk', 'Dice; Hired.com',\n",
       "       'CW_Jobs; Hired.com; LinkedIn',\n",
       "       'Indeed; LinkedIn; Other; StepStone; Xing',\n",
       "       'Hired.com; LinkedIn; Other; Talent.io; Xing',\n",
       "       'CW_Jobs; Dice; Indeed; JobSite.co.uk; Reed.co.uk',\n",
       "       'Dice; JobSite.co.uk; LinkedIn; Total_Jobs',\n",
       "       'CW_Jobs; Dice; Glassdoor; Hired.com; Indeed; JobSite.co.uk; LinkedIn; Monster; Reed.co.uk',\n",
       "       'CW_Jobs; Dice; Indeed; JobSite.co.uk; LinkedIn; Reed.co.uk; Total_Jobs',\n",
       "       'Dice; LinkedIn; Monster; StepStone; Xing', 'Talent.io; Xing',\n",
       "       'Hired.com; Indeed; LinkedIn; Monster; Other; Talent.io',\n",
       "       'CW_Jobs; Indeed; LinkedIn; Monster; Reed.co.uk; Total_Jobs',\n",
       "       'CW_Jobs; Glassdoor; Indeed; JobSite.co.uk; LinkedIn; Monster',\n",
       "       'Indeed; JobSite.co.uk; Monster; Reed.co.uk',\n",
       "       'CW_Jobs; Indeed; JobSite.co.uk; LinkedIn; Other; Reed.co.uk; Total_Jobs',\n",
       "       'Hired.com; LinkedIn; Monster; Naukri',\n",
       "       'CW_Jobs; Glassdoor; Total_Jobs',\n",
       "       'Hired.com; LinkedIn; Other; Talent.io',\n",
       "       'CW_Jobs; Dice; JobSite.co.uk; Monster; Reed.co.uk; Total_Jobs',\n",
       "       'LinkedIn; Monster; Other; Remix_jobs',\n",
       "       'CW_Jobs; Dice; JobSite.co.uk; LinkedIn; Monster; Reed.co.uk; Total_Jobs',\n",
       "       'Hired.com; Indeed; LinkedIn; Monster; TripleByte',\n",
       "       'JobSite.co.uk; LinkedIn; Reed.co.uk; Total_Jobs',\n",
       "       'Glassdoor; Hired.com; Indeed; LinkedIn; Other',\n",
       "       'LinkedIn; Monster; Talent.io; Xing',\n",
       "       'Dice; Hired.com; Indeed; LinkedIn; Monster; Talent.io',\n",
       "       'CW_Jobs; Glassdoor; LinkedIn',\n",
       "       'Hired.com; LinkedIn; Remix_jobs; Talent.io',\n",
       "       'LinkedIn; Monster; Total_Jobs',\n",
       "       'Hired.com; LinkedIn; Monster; Talent.io',\n",
       "       'Indeed; JobSite.co.uk; LinkedIn; Monster',\n",
       "       'CW_Jobs; Dice; Glassdoor; Hired.com; Indeed; JobSite.co.uk; LinkedIn; Monster; Reed.co.uk; Talent.io; Total_Jobs',\n",
       "       'CW_Jobs; Glassdoor; Hired.com',\n",
       "       'CW_Jobs; Indeed; JobSite.co.uk; Monster; Reed.co.uk',\n",
       "       'Indeed; LinkedIn; StepStone; Talent.io',\n",
       "       'CW_Jobs; JobSite.co.uk; LinkedIn; Other; Total_Jobs',\n",
       "       'LinkedIn; Other; StepStone; Xing',\n",
       "       'CW_Jobs; Glassdoor; Indeed; LinkedIn; Reed.co.uk',\n",
       "       'Glassdoor; Hired.com; LinkedIn; Reed.co.uk',\n",
       "       'JobSite.co.uk; LinkedIn; Reed.co.uk',\n",
       "       'Hired.com; Indeed; LinkedIn; Other; TripleByte',\n",
       "       'Glassdoor; Indeed; LinkedIn; TripleByte',\n",
       "       'Hired.com; Indeed; Monster; Naukri', 'CW_Jobs; Hired.com',\n",
       "       'CW_Jobs; Hired.com; Indeed; JobSite.co.uk; LinkedIn; Monster; Reed.co.uk',\n",
       "       'CW_Jobs; Dice; LinkedIn; Reed.co.uk',\n",
       "       'Dice; Glassdoor; Hired.com; Indeed; Monster',\n",
       "       'CW_Jobs; Indeed; JobSite.co.uk',\n",
       "       'Indeed; Monster; Other; Remix_jobs',\n",
       "       'CW_Jobs; Indeed; Reed.co.uk',\n",
       "       'LinkedIn; Monster; Other; Reed.co.uk', 'Glassdoor; JobSite.co.uk',\n",
       "       'LinkedIn; Other; Remix_jobs',\n",
       "       'CW_Jobs; Indeed; JobSite.co.uk; LinkedIn; Monster; Reed.co.uk',\n",
       "       'CW_Jobs; Dice; Indeed; LinkedIn', 'JobSite.co.uk; Monster; Other',\n",
       "       'Hired.com; Naukri', 'Monster; Remix_jobs',\n",
       "       'CW_Jobs; JobSite.co.uk; Monster', 'CW_Jobs; Monster; Reed.co.uk',\n",
       "       'Glassdoor; Other', 'CW_Jobs; Monster', 'Dice; Monster; Naukri',\n",
       "       'Glassdoor; LinkedIn; Reed.co.uk', 'Indeed; Monster; Total_Jobs',\n",
       "       'Indeed; LinkedIn; Monster; Remix_jobs; Talent.io',\n",
       "       'CW_Jobs; LinkedIn; Other; Reed.co.uk',\n",
       "       'Indeed; JobSite.co.uk; LinkedIn; Reed.co.uk',\n",
       "       'CW_Jobs; Dice; JobSite.co.uk; LinkedIn; Monster; Reed.co.uk',\n",
       "       'Hired.com; LinkedIn; Pracuj', 'Dice; Xing',\n",
       "       'Indeed; JobSite.co.uk; Monster; Other; Total_Jobs',\n",
       "       'CW_Jobs; Dice; Indeed; JobSite.co.uk; LinkedIn; Monster; Reed.co.uk',\n",
       "       'CW_Jobs; Dice; Glassdoor; Hired.com; Indeed; JobSite.co.uk; LinkedIn; Monster; Other; Reed.co.uk; Talent.io; Total_Jobs',\n",
       "       'CW_Jobs; Dice', 'Dice; Monster; Other',\n",
       "       'CW_Jobs; LinkedIn; Other; Total_Jobs',\n",
       "       'CW_Jobs; Glassdoor; JobSite.co.uk; LinkedIn; Monster; Total_Jobs',\n",
       "       'CW_Jobs; Indeed; LinkedIn; Talent.io',\n",
       "       'CW_Jobs; Dice; JobSite.co.uk; Monster; Reed.co.uk',\n",
       "       'Glassdoor; Hired.com; Indeed', 'Dice; Glassdoor; LinkedIn; Other',\n",
       "       'Glassdoor; Indeed; Other',\n",
       "       'Indeed; JobSite.co.uk; LinkedIn; Reed.co.uk; Total_Jobs',\n",
       "       'Hired.com; Indeed; LinkedIn; Monster; Naukri; Other',\n",
       "       'Dice; Indeed; LinkedIn; Talent.io', 'CW_Jobs; Other',\n",
       "       'Glassdoor; Indeed; JobSite.co.uk; LinkedIn; Reed.co.uk',\n",
       "       'Hired.com; Monster; Talent.io',\n",
       "       'Glassdoor; Hired.com; Indeed; LinkedIn; Monster; TripleByte',\n",
       "       'LinkedIn; Monster; StepStone; Talent.io; Xing',\n",
       "       'Glassdoor; Indeed; LinkedIn; Reed.co.uk',\n",
       "       'CW_Jobs; Dice; Hired.com; JobSite.co.uk; Monster; Reed.co.uk; Talent.io; Total_Jobs',\n",
       "       'Hired.com; Monster; Naukri',\n",
       "       'CW_Jobs; Hired.com; Indeed; JobSite.co.uk; Reed.co.uk; Total_Jobs',\n",
       "       'Hired.com; Indeed; LinkedIn; Monster; Reed.co.uk',\n",
       "       'Hired.com; LinkedIn; Other; TripleByte',\n",
       "       'Indeed; LinkedIn; Other; Talent.io; Total_Jobs',\n",
       "       'Dice; Hired.com; Indeed; Monster; Talent.io',\n",
       "       'Dice; Indeed; Other; Workopolis',\n",
       "       'CW_Jobs; Glassdoor; JobSite.co.uk; LinkedIn; Total_Jobs',\n",
       "       'Glassdoor; Monster; Reed.co.uk',\n",
       "       'LinkedIn; Remix_jobs; Talent.io',\n",
       "       'CW_Jobs; LinkedIn; Monster; Reed.co.uk; Total_Jobs',\n",
       "       'Monster; Pracuj', 'Glassdoor; Indeed; LinkedIn; Monster; Other',\n",
       "       'CW_Jobs; Dice; Glassdoor; Hired.com; JobSite.co.uk; LinkedIn',\n",
       "       'Dice; Glassdoor; Indeed; JobSite.co.uk; Monster; Reed.co.uk',\n",
       "       'CW_Jobs; Glassdoor; Hired.com; JobSite.co.uk; LinkedIn; Monster; Other',\n",
       "       'CW_Jobs; Hired.com; Total_Jobs',\n",
       "       'Dice; Indeed; LinkedIn; Monster; Naukri; Other',\n",
       "       'CW_Jobs; Dice; Indeed; JobSite.co.uk; LinkedIn; Reed.co.uk',\n",
       "       'Indeed; Pracuj', 'Dice; Glassdoor; Indeed; Monster',\n",
       "       'Dice; Glassdoor; Monster; Other',\n",
       "       'CW_Jobs; JobSite.co.uk; LinkedIn; Monster; Other; Reed.co.uk; Total_Jobs',\n",
       "       'CW_Jobs; JobSite.co.uk; LinkedIn; Monster; Reed.co.uk',\n",
       "       'Glassdoor; Indeed; JobSite.co.uk; LinkedIn',\n",
       "       'CW_Jobs; JobSite.co.uk; Total_Jobs', 'Pracuj; Talent.io',\n",
       "       'Monster; Other; StepStone; Xing',\n",
       "       'CW_Jobs; Dice; Hired.com; JobSite.co.uk; LinkedIn; Reed.co.uk; Total_Jobs',\n",
       "       'Indeed; JobSite.co.uk; LinkedIn; Monster; Total_Jobs',\n",
       "       'Dice; Indeed; LinkedIn; Monster; StepStone; Talent.io; Xing',\n",
       "       'Dice; Indeed; LinkedIn; Monster; TripleByte',\n",
       "       'CW_Jobs; Glassdoor; Indeed; Monster; Reed.co.uk',\n",
       "       'Dice; Hired.com; Indeed; LinkedIn; Monster; Other; Talent.io',\n",
       "       'Glassdoor; JobSite.co.uk; LinkedIn; Monster; Reed.co.uk',\n",
       "       'Indeed; Monster; StepStone',\n",
       "       'Glassdoor; Indeed; LinkedIn; Monster; Reed.co.uk',\n",
       "       'CW_Jobs; Hired.com; Indeed; LinkedIn',\n",
       "       'Hired.com; Indeed; Talent.io',\n",
       "       'Indeed; JobSite.co.uk; Reed.co.uk',\n",
       "       'LinkedIn; Monster; Remix_jobs; Talent.io',\n",
       "       'CW_Jobs; Glassdoor; Indeed; JobSite.co.uk; LinkedIn; Monster; Reed.co.uk',\n",
       "       'Glassdoor; Monster; Other', 'Indeed; LinkedIn; Other; Workopolis',\n",
       "       'CW_Jobs; Hired.com; JobSite.co.uk; LinkedIn; Other; Total_Jobs',\n",
       "       'Glassdoor; LinkedIn; Workopolis',\n",
       "       'CW_Jobs; Dice; Indeed; LinkedIn; Monster; Reed.co.uk; Total_Jobs',\n",
       "       'Workopolis', 'Glassdoor; Hired.com; Monster',\n",
       "       'Dice; Glassdoor; LinkedIn; Monster; Other',\n",
       "       'CW_Jobs; Indeed; LinkedIn; Total_Jobs',\n",
       "       'Indeed; JobSite.co.uk; LinkedIn; Monster; Reed.co.uk; Total_Jobs',\n",
       "       'Dice; Hired.com; LinkedIn; Reed.co.uk; Talent.io',\n",
       "       'Hired.com; Indeed; LinkedIn; Monster; Talent.io',\n",
       "       'Hired.com; Indeed; LinkedIn; TripleByte',\n",
       "       'Dice; Hired.com; Indeed; LinkedIn; Monster; Other; Workopolis',\n",
       "       'Indeed; Other; StepStone; Xing',\n",
       "       'Glassdoor; LinkedIn; Other; Total_Jobs',\n",
       "       'Dice; Glassdoor; Hired.com; Indeed; LinkedIn; Other',\n",
       "       'Dice; LinkedIn; Monster; Other; StepStone; Xing',\n",
       "       'CW_Jobs; Glassdoor; Indeed; LinkedIn; Monster; Reed.co.uk',\n",
       "       'CW_Jobs; Glassdoor; Indeed; LinkedIn; Monster; Other',\n",
       "       'Glassdoor; Indeed; JobSite.co.uk; LinkedIn; Reed.co.uk; Total_Jobs',\n",
       "       'CW_Jobs; Dice; Indeed; LinkedIn; Reed.co.uk',\n",
       "       'LinkedIn; Other; Talent.io; Xing',\n",
       "       'Dice; Glassdoor; Indeed; TripleByte',\n",
       "       'Hired.com; LinkedIn; Naukri; Other',\n",
       "       'Hired.com; Indeed; LinkedIn; Monster; Other',\n",
       "       'Indeed; JobSite.co.uk; Reed.co.uk; Total_Jobs',\n",
       "       'Glassdoor; Indeed; Monster; Workopolis',\n",
       "       'CW_Jobs; Dice; JobSite.co.uk; LinkedIn',\n",
       "       'Indeed; LinkedIn; Monster; Other; Xing',\n",
       "       'CW_Jobs; Glassdoor; JobSite.co.uk; LinkedIn; Monster; Other; Total_Jobs',\n",
       "       'Dice; Indeed; LinkedIn; Monster; Reed.co.uk',\n",
       "       'Dice; Glassdoor; Hired.com; Other',\n",
       "       'CW_Jobs; Dice; Hired.com; Indeed; JobSite.co.uk; LinkedIn',\n",
       "       'CW_Jobs; Indeed; LinkedIn; Monster; Other; Reed.co.uk',\n",
       "       'LinkedIn; Reed.co.uk; Total_Jobs'], dtype=object)"
      ]
     },
     "execution_count": 52,
     "metadata": {},
     "output_type": "execute_result"
    }
   ],
   "source": [
    "df.JobProfile.unique()"
   ]
  },
  {
   "cell_type": "code",
   "execution_count": 53,
   "metadata": {},
   "outputs": [],
   "source": [
    "JP = df.JobProfile[df['JobProfile'].notnull().tolist()]"
   ]
  },
  {
   "cell_type": "code",
   "execution_count": 54,
   "metadata": {},
   "outputs": [],
   "source": [
    "JPlist = []\n",
    "for i in JP:\n",
    "    t = i.replace(\" \",\"\").replace(\"[\",\"\").replace(\";\",\" \").split()\n",
    "    JPlist.append(t)"
   ]
  },
  {
   "cell_type": "code",
   "execution_count": 55,
   "metadata": {},
   "outputs": [],
   "source": [
    "JPs = str(JPlist)"
   ]
  },
  {
   "cell_type": "code",
   "execution_count": 56,
   "metadata": {},
   "outputs": [],
   "source": [
    "replace = [\"[\", \"]\", \"'\", \"'\",\" \"]\n",
    "for i in replace:\n",
    "    if i in JPs:\n",
    "        JPs = JPs.replace(i,'')"
   ]
  },
  {
   "cell_type": "code",
   "execution_count": 57,
   "metadata": {},
   "outputs": [],
   "source": [
    "JPl = JPs.split(\",\")"
   ]
  },
  {
   "cell_type": "code",
   "execution_count": 58,
   "metadata": {},
   "outputs": [
    {
     "name": "stdout",
     "output_type": "stream",
     "text": [
      "['Other', 'LinkedIn', 'Monster', 'Xing', 'Indeed', 'Naukri', 'JobSite.co.uk', 'Dice', 'Glassdoor', 'Hired.com', 'Reed.co.uk', 'Remix_jobs', 'TripleByte', 'StepStone', 'CW_Jobs', 'Workopolis', 'Total_Jobs', 'Pracuj', 'Talent.io']\n"
     ]
    }
   ],
   "source": [
    "JPU = []\n",
    "for w in JPl:\n",
    "    if w not in JPU:\n",
    "        JPU.append(w)\n",
    "\n",
    "print(JPU)"
   ]
  }
 ],
 "metadata": {
  "kernelspec": {
   "display_name": "Python 3",
   "language": "python",
   "name": "python3"
  },
  "language_info": {
   "codemirror_mode": {
    "name": "ipython",
    "version": 3
   },
   "file_extension": ".py",
   "mimetype": "text/x-python",
   "name": "python",
   "nbconvert_exporter": "python",
   "pygments_lexer": "ipython3",
   "version": "3.6.4"
  }
 },
 "nbformat": 4,
 "nbformat_minor": 2
}
